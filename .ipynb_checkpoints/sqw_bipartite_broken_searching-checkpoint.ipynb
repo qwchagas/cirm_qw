{
 "cells": [
  {
   "cell_type": "code",
   "execution_count": 1,
   "id": "f789ce4f",
   "metadata": {},
   "outputs": [],
   "source": [
    "import numpy as np\n",
    "import networkx as nx\n",
    "import matplotlib.pyplot as plt\n",
    "from random import choices"
   ]
  },
  {
   "cell_type": "code",
   "execution_count": 2,
   "id": "68dc06ac",
   "metadata": {},
   "outputs": [],
   "source": [
    "def sqw_bip_op(N, theta, d, p):\n",
    "    II = np.zeros([N,N])\n",
    "    U = []\n",
    "    for r in range(d):\n",
    "        H = np.zeros([N,N])\n",
    "        for x in range(N//2):\n",
    "            if choices([0,1], [1-p,p]) == 0\n",
    "                H[x, (x+r)%(N//2) + N//2] = 1\n",
    "                H[(x+r)%(N//2) + N//2, x] = 1\n",
    "            else:\n",
    "                H[x, x] = 1\n",
    "                H[(x+r)%(N//2) + N//2, (x+r)%(N//2) + N//2] = 1\n",
    "                \n",
    "            \n",
    "        U.append(np.cos(theta[r])*II + 1j*np.sin(theta[r])*H)\n",
    "    \n",
    "    return U"
   ]
  },
  {
   "cell_type": "code",
   "execution_count": 6,
   "id": "70f09195",
   "metadata": {},
   "outputs": [],
   "source": [
    "N = 8\n",
    "d = 2\n",
    "p = 0\n",
    "theta = [np.pi/2]*d\n",
    "U = sqw_bip_op(N, theta, d, p)"
   ]
  },
  {
   "cell_type": "code",
   "execution_count": 8,
   "id": "4f0297ff",
   "metadata": {},
   "outputs": [
    {
     "data": {
      "text/plain": [
       "array([[0.+0.j, 0.+0.j, 0.+0.j, 0.+0.j, 0.+0.j, 0.+1.j, 0.+0.j, 0.+0.j],\n",
       "       [0.+0.j, 0.+0.j, 0.+0.j, 0.+0.j, 0.+0.j, 0.+0.j, 0.+1.j, 0.+0.j],\n",
       "       [0.+0.j, 0.+0.j, 0.+0.j, 0.+0.j, 0.+0.j, 0.+0.j, 0.+0.j, 0.+1.j],\n",
       "       [0.+0.j, 0.+0.j, 0.+0.j, 0.+0.j, 0.+1.j, 0.+0.j, 0.+0.j, 0.+0.j],\n",
       "       [0.+0.j, 0.+0.j, 0.+0.j, 0.+1.j, 0.+0.j, 0.+0.j, 0.+0.j, 0.+0.j],\n",
       "       [0.+1.j, 0.+0.j, 0.+0.j, 0.+0.j, 0.+0.j, 0.+0.j, 0.+0.j, 0.+0.j],\n",
       "       [0.+0.j, 0.+1.j, 0.+0.j, 0.+0.j, 0.+0.j, 0.+0.j, 0.+0.j, 0.+0.j],\n",
       "       [0.+0.j, 0.+0.j, 0.+1.j, 0.+0.j, 0.+0.j, 0.+0.j, 0.+0.j, 0.+0.j]])"
      ]
     },
     "execution_count": 8,
     "metadata": {},
     "output_type": "execute_result"
    }
   ],
   "source": [
    "U[1].round(2)"
   ]
  },
  {
   "cell_type": "code",
   "execution_count": null,
   "id": "a6173ffa",
   "metadata": {},
   "outputs": [],
   "source": []
  }
 ],
 "metadata": {
  "kernelspec": {
   "display_name": "Python 3 (ipykernel)",
   "language": "python",
   "name": "python3"
  },
  "language_info": {
   "codemirror_mode": {
    "name": "ipython",
    "version": 3
   },
   "file_extension": ".py",
   "mimetype": "text/x-python",
   "name": "python",
   "nbconvert_exporter": "python",
   "pygments_lexer": "ipython3",
   "version": "3.9.8"
  }
 },
 "nbformat": 4,
 "nbformat_minor": 5
}
