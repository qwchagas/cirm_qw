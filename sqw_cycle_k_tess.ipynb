{
 "cells": [
  {
   "cell_type": "code",
   "execution_count": 1,
   "id": "960d80b5",
   "metadata": {},
   "outputs": [],
   "source": [
    "import numpy as np\n",
    "import matplotlib.pyplot as plt"
   ]
  },
  {
   "cell_type": "code",
   "execution_count": 24,
   "id": "879e7fd2",
   "metadata": {},
   "outputs": [],
   "source": [
    "def sqw_cyle_k_tess_op(N,theta):\n",
    "    II = np.eye(N)\n",
    "    \n",
    "    Hg = np.zeros([N,N])\n",
    "    Hr = np.zeros([N,N])\n",
    "    Hb = np.zeros([N,N])\n",
    "    for x in range(N//k):\n",
    "        # Green\n",
    "        Hg[3*x, 3*x + 1] = 1\n",
    "        Hg[3*x + 1, 3*x] = 1\n",
    "        Hg[3*x + 2, 3*x + 2] = 1\n",
    "        \n",
    "        # Red\n",
    "        Hr[3*x + 1, 3*x + 2] = 1\n",
    "        Hr[3*x + 2, 3*x + 1] = 1\n",
    "        Hr[(3*x + 3)%N, (3*x + 3)%N] = 1\n",
    "        \n",
    "        # Blue\n",
    "        Hb[3*x + 2, (3*x + 3)%N] = 1\n",
    "        Hb[(3*x + 3)%N, 3*x + 2] = 1\n",
    "        Hb[(3*x + 4)%N, (3*x + 4)%N] = 1\n",
    "       \n",
    "    Ug = np.cos(theta[0])*II + 1j*np.sin(theta[0])*Hg\n",
    "    Ur = np.cos(theta[1])*II + 1j*np.sin(theta[1])*Hr\n",
    "    Ub = np.cos(theta[2])*II + 1j*np.sin(theta[2])*Hb\n",
    "    return Ug, Ur, Ub"
   ]
  },
  {
   "cell_type": "code",
   "execution_count": 49,
   "id": "afa9a564",
   "metadata": {},
   "outputs": [
    {
     "data": {
      "image/png": "[encoded data removed]",
      "text/plain": [
       "<Figure size 432x288 with 1 Axes>"
      ]
     },
     "metadata": {
      "needs_background": "light"
     },
     "output_type": "display_data"
    }
   ],
   "source": [
    "k = 3\n",
    "n = 200\n",
    "N = k*n\n",
    "theta = [np.pi/3]*k\n",
    "steps = 70\n",
    "\n",
    "initial = np.zeros([N,1])\n",
    "initial[N//2] = 1\n",
    "\n",
    "Ug, Ur, Ub = sqw_cyle_k_tess_op(N,theta)\n",
    "U = Ub @ Ug @ Ug\n",
    "\n",
    "for t in range(steps):\n",
    "    initial = U @ initial\n",
    "    \n",
    "plt.plot(np.abs(initial)**2)\n",
    "plt.show()"
   ]
  },
  {
   "cell_type": "code",
   "execution_count": null,
   "id": "e008f146",
   "metadata": {},
   "outputs": [],
   "source": []
  }
 ],
 "metadata": {
  "kernelspec": {
   "display_name": "Python 3 (ipykernel)",
   "language": "python",
   "name": "python3"
  },
  "language_info": {
   "codemirror_mode": {
    "name": "ipython",
    "version": 3
   },
   "file_extension": ".py",
   "mimetype": "text/x-python",
   "name": "python",
   "nbconvert_exporter": "python",
   "pygments_lexer": "ipython3",
   "version": "3.9.8"
  }
 },
 "nbformat": 4,
 "nbformat_minor": 5
}
